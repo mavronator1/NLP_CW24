{
  "cells": [
    {
      "cell_type": "markdown",
      "metadata": {
        "id": "kQRW0ws09Fqn"
      },
      "source": [
        "# Imports + GPU Setup"
      ]
    },
    {
      "cell_type": "code",
      "execution_count": 63,
      "metadata": {
        "colab": {
          "base_uri": "https://localhost:8080/"
        },
        "id": "E3osGRJB9Fqo",
        "outputId": "0b05beff-b579-46da-ab10-c3160adc0d0f"
      },
      "outputs": [
        {
          "name": "stdout",
          "output_type": "stream",
          "text": [
            "device: cuda\n"
          ]
        },
        {
          "name": "stderr",
          "output_type": "stream",
          "text": [
            "[nltk_data] Downloading package punkt to /homes/grm23/nltk_data...\n",
            "[nltk_data]   Package punkt is already up-to-date!\n",
            "[nltk_data] Downloading package stopwords to /homes/grm23/nltk_data...\n",
            "[nltk_data]   Package stopwords is already up-to-date!\n"
          ]
        }
      ],
      "source": [
        "import pandas as pd\n",
        "import numpy as np\n",
        "import torch\n",
        "import torch.nn as nn\n",
        "import transformers\n",
        "import logging\n",
        "import re\n",
        "import nltk\n",
        "import torch.nn.functional as F\n",
        "import torch.optim as optim\n",
        "\n",
        "from sklearn import metrics\n",
        "from sklearn.model_selection import train_test_split\n",
        "from nltk.tokenize import word_tokenize\n",
        "from nltk.corpus import stopwords\n",
        "from nltk.stem import PorterStemmer\n",
        "from copy import deepcopy\n",
        "from urllib import request\n",
        "from dont_patronize_me import DontPatronizeMe # data manager module\n",
        "from tqdm import tqdm\n",
        "from torch.utils.data import Dataset, DataLoader\n",
        "from torch.optim import lr_scheduler\n",
        "\n",
        "from transformers import RobertaModel, RobertaTokenizer\n",
        "\n",
        "logging.basicConfig(level=logging.ERROR)\n",
        "nltk.download('punkt')\n",
        "nltk.download('stopwords')\n",
        "\n",
        "device = 'cuda' if torch.cuda.is_available() else 'cpu'\n",
        "print(f'device: {device}')"
      ]
    },
    {
      "cell_type": "markdown",
      "metadata": {
        "id": "XMLFfJf39Fqp"
      },
      "source": [
        "# Data Setup\n",
        "\n",
        "Retrieves the data, applies the specified train and test split to organise data into **train_df** and **dev_df**."
      ]
    },
    {
      "cell_type": "code",
      "execution_count": 69,
      "metadata": {
        "colab": {
          "base_uri": "https://localhost:8080/"
        },
        "id": "G8JhqkAx9Fqp",
        "outputId": "dbe3f11e-31e8-40c1-bb94-ca90dec4dfb0"
      },
      "outputs": [
        {
          "name": "stdout",
          "output_type": "stream",
          "text": [
            "Fetching https://raw.githubusercontent.com/Perez-AlmendrosC/dontpatronizeme/master/semeval-2022/dont_patronize_me.py\n"
          ]
        }
      ],
      "source": [
        "# Download data\n",
        "\n",
        "module_url = f\"https://raw.githubusercontent.com/Perez-AlmendrosC/dontpatronizeme/master/semeval-2022/dont_patronize_me.py\"\n",
        "module_name = module_url.split('/')[-1]\n",
        "print(f'Fetching {module_url}')\n",
        "with request.urlopen(module_url) as f, open(module_name,'w') as outf:\n",
        "  a = f.read()\n",
        "  outf.write(a.decode('utf-8'))\n",
        "\n",
        "# Init data manager module\n",
        "\n",
        "dpm = DontPatronizeMe('./data', './data/task4_test.tsv')\n",
        "dpm.load_task1()\n",
        "\n",
        "# Train and test splits\n",
        "\n",
        "train_ids = pd.read_csv('./data/train_semeval_parids-labels.csv')\n",
        "test_ids = pd.read_csv('./data/dev_semeval_parids-labels.csv')\n",
        "\n",
        "train_ids.par_id = train_ids.par_id.astype(str)\n",
        "test_ids.par_id = test_ids.par_id.astype(str)\n",
        "\n",
        "data=dpm.train_task1_df\n",
        "\n",
        "rows = [] # will contain par_id, label and text\n",
        "for idx in range(len(train_ids)):\n",
        "  id = train_ids.par_id[idx]\n",
        "  # select row from original dataset to retrieve `text` and binary label\n",
        "  keyword = data.loc[data.par_id == id].keyword.values[0]\n",
        "  text = data.loc[data.par_id == id].text.values[0]\n",
        "  label = data.loc[data.par_id == id].label.values[0]\n",
        "  country = data.loc[data.par_id == id].country.values[0]\n",
        "  \n",
        "  rows.append({\n",
        "      'par_id':id,\n",
        "      'keyword':keyword,\n",
        "      'text':text,\n",
        "      'country':country,\n",
        "      'label':label\n",
        "  })\n",
        "\n",
        "train_df = pd.DataFrame(rows)\n",
        "\n",
        "# downsample negative instances\n",
        "pcldf = train_df[train_df.label==1]\n",
        "npos = len(pcldf)\n",
        "balanced_train_df = pd.concat([pcldf, train_df[train_df.label==0][:int(2.5*npos)]])\n",
        "balanced_train_df = balanced_train_df[['text', 'keyword', 'label', 'country']]\n",
        "\n",
        "## BUILD DEV (TEST) DATASET ##\n",
        "\n",
        "rows = [] # will contain par_id, label and text\n",
        "for idx in range(len(test_ids)):\n",
        "  parid = test_ids.par_id[idx]\n",
        "  # select row from original dataset\n",
        "  keyword = data.loc[data.par_id == parid].keyword.values[0]\n",
        "  text = data.loc[data.par_id == parid].text.values[0]\n",
        "  country = data.loc[data.par_id == parid].country.values[0]\n",
        "  label = data.loc[data.par_id == parid].label.values[0]\n",
        "  rows.append({\n",
        "      'par_id':parid,\n",
        "      'keyword':keyword,\n",
        "      'text':text,\n",
        "      'country':country,\n",
        "      'label':label\n",
        "  })\n",
        "\n",
        "dev_df = pd.DataFrame(rows)"
      ]
    },
    {
      "cell_type": "markdown",
      "metadata": {
        "id": "cpjE1sbW9Fqp"
      },
      "source": [
        "# Preprocessing Functions"
      ]
    },
    {
      "cell_type": "code",
      "execution_count": 3,
      "metadata": {
        "id": "VREXNkka9Fqp"
      },
      "outputs": [],
      "source": [
        "def clean_text(text: str, whitespacing = True, standard_tokens = True, punctuation=True, stop_words = False,lower=False) -> str:\n",
        "\n",
        "        stop_words = stopwords.words(\"english\")\n",
        "        \n",
        "        if stop_words:\n",
        "            # Stop words --> token\n",
        "            words = word_tokenize(text)\n",
        "            words = [word for word in words if word not in stopwords.words(\"english\") and word.isalpha()]\n",
        "            text = \" \".join(words)\n",
        "\n",
        "        if lower:\n",
        "             text=text.lower()\n",
        "\n",
        "        if whitespacing:\n",
        "            # Whtespacing and other standarisation\n",
        "            text = text.strip('\"')  # removing \" at start of sentences\n",
        "            text = re.sub(r'\\s+', ' ', text)\n",
        "            text = re.sub('<h>', '.', text)\n",
        "\n",
        "        if standard_tokens:\n",
        "            # Removing unecessary info\n",
        "            text = re.sub(\"(?<![\\w])[0-9]+[.,]?[0-9]*(?![\\w])\", \"[NUM]\", text)\n",
        "            text = re.sub(\"\\[NUM\\]-\\[NUM\\]\", \"[NUM]\", text)\n",
        "            # To delete account numbers 12-5223-231\n",
        "            text = re.sub(\"\\[NUM\\]-\\[NUM\\]\", \"[NUM]\", text)\n",
        "            text = re.sub(r\"https? : \\S+\", \"[WEBSITE]\", text)  # Tokenize links\n",
        "            text = re.sub(\"(?<![\\w])20[0-5][0-9]-?[0-9]*\", \"[YEAR]\", text)  # Year token\n",
        "            text = re.sub(r\"@[\\S]+\", \"[USERNAME]\", text)  # removing referencing on usernames with @\n",
        "            text = re.sub(\"(?<![\\w])1[0-9]{3}-?[0-9]*\", \"[YEAR]\", text)  # Year token\n",
        "            #text = re.sub(\"(?<=\\[NUM\\])-(?=[a-zA-Z])\", \" \", text)\n",
        "\n",
        "        if punctuation:\n",
        "            text = re.sub(r\":\\S+\", \"\", text)  # removing smileys with : (like :),:D,:( etc)\n",
        "            text = re.sub(r\"\\\"+\", \"\", text)  # replacing repetitions of punctations\n",
        "            text = re.sub(r\"(\\W)(?=\\1)\", \"\", text)  # replacing repetitions of punctations\n",
        "            \n",
        "        return text.strip()"
      ]
    },
    {
      "cell_type": "code",
      "execution_count": 4,
      "metadata": {},
      "outputs": [],
      "source": [
        "def ohc_row(df, col):\n",
        "    \"\"\"\n",
        "    OHC a col of data (used for ohc the country column) and \n",
        "    remove the col \n",
        "    \"\"\"\n",
        "    ohc_df = df.copy()\n",
        "    # OHC the country labels \n",
        "    one_hot_encoding = pd.get_dummies(ohc_df[col], prefix=col, dtype=float)\n",
        "    # Add OHC labels\n",
        "    ohc_df = ohc_df.join(one_hot_encoding)\n",
        "    # Drop old column\n",
        "    ohc_df = ohc_df.drop('country', axis=1)\n",
        "    # Return OHC df\n",
        "    return ohc_df\n",
        "\n",
        "\n",
        "balanced_train_df_ohc = ohc_row(balanced_train_df, 'country')\n",
        "dev_df_ohc = ohc_row(dev_df, 'country')"
      ]
    },
    {
      "cell_type": "markdown",
      "metadata": {
        "id": "53rjPgc49Fqp"
      },
      "source": [
        "# Dataset"
      ]
    },
    {
      "cell_type": "code",
      "execution_count": 80,
      "metadata": {
        "id": "bPvSvYja9Fqp"
      },
      "outputs": [],
      "source": [
        "class DPMDataset(Dataset):\n",
        "    \"\"\"\n",
        "    Dataset for regular use with Roberta/Deberta\n",
        "    \n",
        "    \"\"\"\n",
        "\n",
        "    def __init__(self, df, tokenizer, max_len, test_set=False):\n",
        "        \n",
        "        self.test_set = test_set\n",
        "        self.tokenizer = tokenizer\n",
        "        self.text = df.text\n",
        "\n",
        "        if not test_set:\n",
        "            self.label = df.label\n",
        "\n",
        "        self.max_len = max_len\n",
        "\n",
        "    def __len__(self):\n",
        "        return len(self.text)\n",
        "\n",
        "    def __getitem__(self, idx):\n",
        "\n",
        "        if not self.test_set:\n",
        "            return {\n",
        "                'text': self.text[idx],\n",
        "                'target': self.label[idx]\n",
        "            }\n",
        "        else:\n",
        "            return {\n",
        "                'text': self.text[idx],\n",
        "            }\n",
        "\n",
        "\n",
        "    def collate_fn(self, batch):\n",
        "        texts = []\n",
        "        labels = []\n",
        "\n",
        "\n",
        "        for b in batch:\n",
        "            texts.append(b['text'])\n",
        "            if not self.test_set:\n",
        "                labels.append(b['target'])\n",
        "\n",
        "        encodings = self.tokenizer(texts, return_tensors='pt', padding=True, truncation=True, max_length=self.max_len)\n",
        "        if not self.test_set:\n",
        "            encodings['target'] = torch.tensor(labels)\n",
        "\n",
        "        return encodings"
      ]
    },
    {
      "cell_type": "code",
      "execution_count": 6,
      "metadata": {},
      "outputs": [],
      "source": [
        "class DPMDataset2(Dataset):\n",
        "    \"\"\"\n",
        "    Dataset that includes country for an additional input to the classification head\n",
        "    \"\"\"\n",
        "\n",
        "    def __init__(self, df, tokenizer, max_len):\n",
        "\n",
        "        self.tokenizer = tokenizer\n",
        "        self.text = df.text\n",
        "        self.label = df.label\n",
        "\n",
        "        ohc_columns = df.filter(like='country_').columns # extract ohc columns\n",
        "        self.country = df[ohc_columns]\n",
        "\n",
        "        self.max_len = max_len\n",
        "\n",
        "    def __len__(self):\n",
        "        return len(self.text)\n",
        "\n",
        "    def __getitem__(self, idx):\n",
        "\n",
        "        return {\n",
        "            'text': self.text[idx],\n",
        "            'country': np.array(self.country.iloc[idx]),\n",
        "            'target': self.label[idx]\n",
        "        }\n",
        "\n",
        "    def collate_fn(self, batch):\n",
        "        texts = []\n",
        "        countries = []\n",
        "        labels = []\n",
        "    \n",
        "\n",
        "        for b in batch:\n",
        "\n",
        "            texts.append(b['text'])\n",
        "            countries.append(b['country'])\n",
        "            labels.append(b['target'])\n",
        "\n",
        "        encodings = self.tokenizer(texts, return_tensors='pt', padding=True, truncation=True, max_length=self.max_len)\n",
        "        encodings['countries'] = torch.tensor(countries, dtype=torch.int64)\n",
        "        encodings['target'] = torch.tensor(labels)\n",
        "\n",
        "        return encodings"
      ]
    },
    {
      "cell_type": "markdown",
      "metadata": {},
      "source": [
        "# Data Augmentation"
      ]
    },
    {
      "cell_type": "markdown",
      "metadata": {},
      "source": [
        "Function to apply augmentation to text and specify the type of augmentation to perform"
      ]
    },
    {
      "cell_type": "code",
      "execution_count": 16,
      "metadata": {},
      "outputs": [],
      "source": [
        "import nlpaug.augmenter.char as nac\n",
        "import nlpaug.augmenter.word as naw\n",
        "import nlpaug.augmenter.sentence as nas\n",
        "\n",
        "def augmenter (text, deletion=False, Synonym=False, Spelling=False, CWE=False):\n",
        "\n",
        "    augmented_texts=text\n",
        "\n",
        "    if Spelling:\n",
        "        aug = naw.SpellingAug()\n",
        "        augmented_texts = aug.augment(augmented_texts, n=3)\n",
        "        \n",
        "    if deletion:\n",
        "        aug = naw.RandomWordAug(action=\"delete\")\n",
        "        augmented_texts = aug.augment(augmented_texts)\n",
        "\n",
        "    if Synonym:\n",
        "        aug = naw.SynonymAug(aug_src='wordnet')\n",
        "        augmented_texts = aug.augment(augmented_texts)\n",
        "    \n",
        "    if CWE:\n",
        "        aug = naw.ContextualWordEmbsAug(\n",
        "            model_path = 'distilbert-base-uncased', \n",
        "            device = device,\n",
        "            action = \"substitute\",\n",
        "            top_k = 20\n",
        "        )\n",
        "        augmented_texts = aug.augment(text)\n",
        "        \n",
        "    return augmented_texts[0]"
      ]
    },
    {
      "cell_type": "markdown",
      "metadata": {},
      "source": [
        "# Models"
      ]
    },
    {
      "cell_type": "code",
      "execution_count": 7,
      "metadata": {
        "id": "lS8Ig6Xy9Fqp"
      },
      "outputs": [],
      "source": [
        "from transformers import RobertaPreTrainedModel, TrainingArguments, DebertaModel\n",
        "\n",
        "class JoBert(RobertaPreTrainedModel):\n",
        "    \"\"\"\n",
        "    Implementation of Roberta with a classifier head \n",
        "    \"\"\"\n",
        "    def __init__(self,config):\n",
        "        super().__init__(config)\n",
        "\n",
        "        self.roberta=RobertaModel(config)\n",
        "        # self.deberta = DebertaModel(config)\n",
        "        self.projection =torch.nn.Sequential (torch.nn.Dropout(0.2),torch.nn.Linear(config.hidden_size,2))\n",
        "\n",
        "        self.init_weights()\n",
        "\n",
        "    def forward(\n",
        "\n",
        "        self,\n",
        "        input_ids=None,\n",
        "        attention_mask=None,\n",
        "        token_type_ids=None,\n",
        "        position_ids=None,\n",
        "        head_mask=None,\n",
        "        inputs_embeds=None,\n",
        "        target=None,\n",
        "        output_attentions=None,\n",
        "        output_hidden_states=None,\n",
        "        return_dict=None):\n",
        "\n",
        "        outputs = self.roberta(\n",
        "            input_ids,\n",
        "            attention_mask=attention_mask,\n",
        "            token_type_ids=token_type_ids,\n",
        "            position_ids=position_ids,\n",
        "            head_mask=head_mask,\n",
        "            inputs_embeds=inputs_embeds,\n",
        "            output_attentions=output_attentions,\n",
        "            output_hidden_states=output_hidden_states,\n",
        "            return_dict=return_dict,\n",
        "        )\n",
        "        \n",
        "        # outputs = self.deberta(\n",
        "        #     input_ids,\n",
        "        #     attention_mask=attention_mask,\n",
        "        #     token_type_ids=token_type_ids,\n",
        "        #     position_ids=position_ids,\n",
        "        #     inputs_embeds=inputs_embeds,\n",
        "        #     output_attentions=output_attentions,\n",
        "        #     output_hidden_states=output_hidden_states,\n",
        "        #     return_dict=False\n",
        "        # )\n",
        "        logits = self.projection(outputs[1])\n",
        "        return logits\n"
      ]
    },
    {
      "cell_type": "code",
      "execution_count": 8,
      "metadata": {},
      "outputs": [],
      "source": [
        "from transformers import RobertaPreTrainedModel, TrainingArguments, DebertaModel,DebertaPreTrainedModel\n",
        "\n",
        "class DebertaClassification(DebertaPreTrainedModel):\n",
        "    \"\"\"\n",
        "    Implementation of Deberta with a classifier head\n",
        "    \"\"\"\n",
        "    def __init__(self,config):\n",
        "\n",
        "        super().__init__(config)\n",
        "\n",
        "        # self.roberta=RobertaModel(config)\n",
        "        self.deberta = DebertaModel(config)\n",
        "        self.pooling = torch.nn.AdaptiveMaxPool1d(1)  # Global Max Pooling\n",
        "\n",
        "        self.projection =torch.nn.Sequential (torch.nn.Dropout(0.2),torch.nn.Linear(config.hidden_size,2))\n",
        "\n",
        "        self.init_weights()\n",
        "\n",
        "    def forward(\n",
        "\n",
        "        self,\n",
        "        input_ids=None,\n",
        "        attention_mask=None,\n",
        "        token_type_ids=None,\n",
        "        position_ids=None,\n",
        "        inputs_embeds=None,\n",
        "        target=None,\n",
        "        output_attentions=None,\n",
        "        output_hidden_states=None,\n",
        "        return_dict=None):\n",
        "\n",
        "        # outputs = self.roberta(\n",
        "        #     input_ids,\n",
        "        #     attention_mask=attention_mask,\n",
        "        #     token_type_ids=token_type_ids,\n",
        "        #     position_ids=position_ids,\n",
        "        #     head_mask=head_mask,\n",
        "        #     inputs_embeds=inputs_embeds,\n",
        "        #     output_attentions=output_attentions,\n",
        "        #     output_hidden_states=output_hidden_states,\n",
        "        #     return_dict=return_dict,\n",
        "        # )\n",
        "        \n",
        "        deberta_output = self.deberta(\n",
        "            input_ids,\n",
        "            attention_mask=attention_mask,\n",
        "            token_type_ids=token_type_ids,\n",
        "            position_ids=position_ids,\n",
        "            inputs_embeds=inputs_embeds,\n",
        "            output_attentions=output_attentions,\n",
        "            output_hidden_states=output_hidden_states,\n",
        "            return_dict=return_dict,\n",
        "        )[0]\n",
        "        deberta_output_permuted = deberta_output.permute(0, 2, 1)  # Change the shape for pooling\n",
        "        pooled_output = self.pooling(deberta_output_permuted).squeeze(-1)  # Apply pooling\n",
        "        logits = self.projection(pooled_output)  # Projection layer\n",
        "        # print(outputs['last_hidden_state'].shape)\n",
        "        # logits = self.projection(outputs['last_hidden_state'][-1])\n",
        "        return logits\n"
      ]
    },
    {
      "cell_type": "code",
      "execution_count": 9,
      "metadata": {},
      "outputs": [],
      "source": [
        "class DebertaClassification2(DebertaPreTrainedModel):\n",
        "    \"\"\"\n",
        "    Implementation of Deberta for classification where the classification head takes\n",
        "    word embeddings and the country which the text came from.\n",
        "    \n",
        "    \"\"\"\n",
        "    def __init__(self,config):\n",
        "\n",
        "        super().__init__(config)\n",
        "\n",
        "        # self.roberta=RobertaModel(config)\n",
        "        self.deberta = DebertaModel(config)\n",
        "        self.pooling = torch.nn.AdaptiveMaxPool1d(1)  # Global Max Pooling\n",
        "\n",
        "        # Input to the linear layer is the Deberta hidden size + 20 for country OHC\n",
        "        self.projection = torch.nn.Sequential(torch.nn.Dropout(0.2),\n",
        "                                             torch.nn.Linear(config.hidden_size+20,2)) \n",
        "\n",
        "        self.init_weights()\n",
        "\n",
        "    def forward(\n",
        "\n",
        "        self,\n",
        "        input_ids=None,\n",
        "        countries=None,\n",
        "        attention_mask=None,\n",
        "        token_type_ids=None,\n",
        "        position_ids=None,\n",
        "        inputs_embeds=None,\n",
        "        target=None,\n",
        "        output_attentions=None,\n",
        "        output_hidden_states=None,\n",
        "        return_dict=None):\n",
        "\n",
        "        # outputs = self.roberta(\n",
        "        #     input_ids,\n",
        "        #     attention_mask=attention_mask,\n",
        "        #     token_type_ids=token_type_ids,\n",
        "        #     position_ids=position_ids,\n",
        "        #     head_mask=head_mask,\n",
        "        #     inputs_embeds=inputs_embeds,\n",
        "        #     output_attentions=output_attentions,\n",
        "        #     output_hidden_states=output_hidden_states,\n",
        "        #     return_dict=return_dict,\n",
        "        # )\n",
        "        \n",
        "        deberta_output = self.deberta(\n",
        "            input_ids,\n",
        "            attention_mask=attention_mask,\n",
        "            token_type_ids=token_type_ids,\n",
        "            position_ids=position_ids,\n",
        "            inputs_embeds=inputs_embeds,\n",
        "            output_attentions=output_attentions,\n",
        "            output_hidden_states=output_hidden_states,\n",
        "            return_dict=return_dict,\n",
        "        )[0]\n",
        "        deberta_output_permuted = deberta_output.permute(0, 2, 1)  # Change the shape for pooling\n",
        "        pooled_output = self.pooling(deberta_output_permuted).squeeze(-1)  # Apply pooling\n",
        "\n",
        "        conact_output = torch.concat([pooled_output, countries], dim=1) # concat the pooled output + ohc countires\n",
        "        logits = self.projection(conact_output)  # Projection layer\n",
        "      \n",
        "        return logits\n"
      ]
    },
    {
      "cell_type": "markdown",
      "metadata": {},
      "source": [
        "# Training Loop"
      ]
    },
    {
      "cell_type": "code",
      "execution_count": 10,
      "metadata": {
        "id": "3yCoDNz29Fqq"
      },
      "outputs": [
        {
          "name": "stderr",
          "output_type": "stream",
          "text": [
            "2024-03-03 00:07:28.205671: E external/local_xla/xla/stream_executor/cuda/cuda_dnn.cc:9261] Unable to register cuDNN factory: Attempting to register factory for plugin cuDNN when one has already been registered\n",
            "2024-03-03 00:07:28.205771: E external/local_xla/xla/stream_executor/cuda/cuda_fft.cc:607] Unable to register cuFFT factory: Attempting to register factory for plugin cuFFT when one has already been registered\n",
            "2024-03-03 00:07:28.267229: E external/local_xla/xla/stream_executor/cuda/cuda_blas.cc:1515] Unable to register cuBLAS factory: Attempting to register factory for plugin cuBLAS when one has already been registered\n",
            "2024-03-03 00:07:28.394171: I tensorflow/core/platform/cpu_feature_guard.cc:182] This TensorFlow binary is optimized to use available CPU instructions in performance-critical operations.\n",
            "To enable the following instructions: AVX2 FMA, in other operations, rebuild TensorFlow with the appropriate compiler flags.\n",
            "2024-03-03 00:07:31.239637: W tensorflow/compiler/tf2tensorrt/utils/py_utils.cc:38] TF-TRT Warning: Could not find TensorRT\n"
          ]
        }
      ],
      "source": [
        "## TRAINING LOOP FOR ROBERTA (MOSTLY SAME AS DEBERTA -> JUST A BACKUP INCASE WE BREAK ANYTHING!)\n",
        "\n",
        "from transformers import Trainer, TrainingArguments, DebertaTokenizer, RobertaTokenizer\n",
        "from sklearn.model_selection import train_test_split\n",
        "from sklearn.metrics import classification_report\n",
        "\n",
        "# Custom Training Functions\n",
        "class Trainer_PCL(Trainer):\n",
        "\n",
        "    def __init__( \n",
        "        self,\n",
        "        **kwargs\n",
        "        ):\n",
        "\n",
        "        super().__init__(**kwargs)\n",
        "        \n",
        "        self.epoch = 1\n",
        "        self.results = {}\n",
        "\n",
        "\n",
        "    def compute_loss(self, model, inputs):\n",
        "\n",
        "        outputs = model(**inputs)\n",
        "\n",
        "        loss_fn = nn.CrossEntropyLoss()\n",
        "        target = inputs['target']\n",
        "        loss = loss_fn(outputs.view(-1, 2), target.view(-1))\n",
        "        return loss\n",
        "    \n",
        "    # Custom Evaluation \n",
        "    def evaluate(self, evaluate_datset=None, ignore_keys=None, metric_key_prefix='eval'):\n",
        "  \n",
        "        preds = []\n",
        "        labels = []\n",
        "\n",
        "        eval_dataloader = super().get_test_dataloader(self.eval_dataset)\n",
        "        self.model.eval()\n",
        "        with torch.no_grad():\n",
        "            for data in tqdm(eval_dataloader):\n",
        "                \n",
        "                output = self.model(**data)\n",
        "                pred = torch.max(output, 1)[1]\n",
        "            \n",
        "                preds.extend(pred.cpu().tolist())\n",
        "                labels.extend(data['target'].cpu().tolist())\n",
        "\n",
        "        # with the saved predictions and labels we can compute accuracy, precision, recall and f1-score\n",
        "        metrics = compute_metrics((preds, labels))\n",
        "        print(metrics)\n",
        "\n",
        "        self.results[self.epoch] = metrics\n",
        "        self.epoch += 1       \n",
        "\n",
        "            \n",
        "def compute_metrics(eval_pred):\n",
        "\n",
        "    preds, labels = eval_pred\n",
        "\n",
        "    report = classification_report(preds, labels, target_names=[\"Not PCL\",\"PCL\"], output_dict= True) \n",
        "\n",
        "    return {\"f1\": report['PCL']['f1-score'],\n",
        "            \"precision\": report['PCL']['precision'],\n",
        "            \"recall\": report['PCL']['recall']\n",
        "            }\n",
        "\n",
        "def train(model, data, num_epochs, lr=0.0001, optimizer=None, lr_scheduler=None):\n",
        "    \n",
        "    train_data, eval_data = train_test_split(data, test_size=0.2, random_state=1)\n",
        "\n",
        "    # Reset the index for the training DataFrame\n",
        "    train_data = train_data.reset_index(drop=True)\n",
        "    # Reset the index for the evaluation DataFrame\n",
        "    eval_data = eval_data.reset_index(drop=True)\n",
        "    \n",
        "    # tokenizer = DebertaTokenizer.from_pretrained('microsoft/deberta-base')\n",
        "    tokenizer = RobertaTokenizer.from_pretrained('FacebookAI/roberta-base')\n",
        "\n",
        "\n",
        "    train_dataset = DPMDataset(train_data, tokenizer, max_len=128)\n",
        "    eval_dataset = DPMDataset(eval_data, tokenizer, max_len=128)\n",
        "\n",
        "    Training_args = TrainingArguments(output_dir=\"test_trainer\",\n",
        "                                    learning_rate=lr,\n",
        "                                    logging_steps=100,\n",
        "                                    per_device_train_batch_size=50,\n",
        "                                    num_train_epochs=num_epochs,\n",
        "                                    remove_unused_columns=False,\n",
        "                                    logging_dir='./logs', \n",
        "                                    evaluation_strategy=\"epoch\"\n",
        "                                    )\n",
        "    \n",
        "    trainer = Trainer_PCL(\n",
        "        model = model,\n",
        "        args = Training_args,\n",
        "        train_dataset = train_dataset,\n",
        "        eval_dataset = eval_dataset,\n",
        "        data_collator= train_dataset.collate_fn,\n",
        "        optimizers = (optimizer, lr_scheduler),\n",
        "    )\n",
        "\n",
        "    trainer.train()\n",
        "    trainer.save_model('roberta-finetuned')\n",
        "    return trainer.results"
      ]
    },
    {
      "cell_type": "code",
      "execution_count": 15,
      "metadata": {},
      "outputs": [],
      "source": [
        "# TRAINING LOOP FOR TRAINING DEBERTA \n",
        "from transformers import Trainer, TrainingArguments, DebertaTokenizer, RobertaTokenizer\n",
        "from sklearn.model_selection import train_test_split\n",
        "from sklearn.metrics import classification_report\n",
        "\n",
        "# Custom Training Functions\n",
        "class Trainer_PCL(Trainer):\n",
        "\n",
        "    def __init__( \n",
        "        self,\n",
        "        **kwargs\n",
        "        ):\n",
        "\n",
        "        super().__init__(**kwargs)\n",
        "        \n",
        "        self.epoch = 1\n",
        "        self.results = {}\n",
        "\n",
        "\n",
        "    def compute_loss(self, model, inputs):\n",
        "        \n",
        "        outputs = model(**inputs)\n",
        "\n",
        "        loss_fn = nn.CrossEntropyLoss()\n",
        "        target = inputs['target']\n",
        "        loss = loss_fn(outputs.view(-1, 2), target.view(-1))\n",
        "        return loss\n",
        "    \n",
        "    # Custom Evaluation \n",
        "    def evaluate(self, evaluate_datset=None, ignore_keys=None, metric_key_prefix='eval'):\n",
        "        \n",
        "        if self.epoch < 10:\n",
        "            self.epoch+=1\n",
        "            return\n",
        "        preds = []\n",
        "        labels = []\n",
        "\n",
        "        eval_dataloader = super().get_test_dataloader(self.eval_dataset)\n",
        "        self.model.eval()\n",
        "        with torch.no_grad():\n",
        "            for data in tqdm(eval_dataloader):\n",
        "                \n",
        "                output = self.model(**data)\n",
        "                pred = torch.max(output, 1)[1]\n",
        "            \n",
        "                preds.extend(pred.cpu().tolist())\n",
        "                labels.extend(data['target'].cpu().tolist())\n",
        "\n",
        "        # with the saved predictions and labels we can compute accuracy, precision, recall and f1-score\n",
        "        metrics = compute_metrics((preds, labels))\n",
        "        print(metrics)\n",
        "\n",
        "        self.results[self.epoch] = metrics\n",
        "        self.epoch += 1       \n",
        "\n",
        "            \n",
        "def compute_metrics(eval_pred):\n",
        "\n",
        "    preds, labels = eval_pred\n",
        "\n",
        "    report = classification_report(preds, labels, target_names=[\"Not PCL\",\"PCL\"], output_dict= True) \n",
        "\n",
        "    return {\"f1\": report['PCL']['f1-score'],\n",
        "            \"precision\": report['PCL']['precision'],\n",
        "            \"recall\": report['PCL']['recall']\n",
        "            }\n",
        "\n",
        "def train(model, data, num_epochs, lr=0.0001, optimizer=None, lr_scheduler=None):\n",
        "    \n",
        " #   train_data, eval_data = train_test_split(data, test_size=0.2, random_state=1)\n",
        "\n",
        "    # Reset the index for the training DataFrame\n",
        "    data = data.reset_index(drop=True)\n",
        "    # Reset the index for the evaluation DataFrame\n",
        "  #  eval_data = eval_data.reset_index(drop=True)\n",
        "    \n",
        "    tokenizer = DebertaTokenizer.from_pretrained('microsoft/deberta-base')\n",
        "    train_dataset = DPMDataset(data, tokenizer, max_len=128)\n",
        "   # eval_dataset = DPMDataset2(eval_data, tokenizer, max_len=128)\n",
        "\n",
        "    Training_args = TrainingArguments(output_dir=\"test_trainer\",\n",
        "                                    learning_rate=lr,\n",
        "                                    logging_steps=100,\n",
        "                                    per_device_train_batch_size=8,\n",
        "                                    num_train_epochs=num_epochs,\n",
        "                                    remove_unused_columns=False,\n",
        "                                    logging_dir='./logs', \n",
        "                                 #   evaluation_strategy=\"epoch\"\n",
        "                                    )\n",
        "    \n",
        "    trainer = Trainer_PCL(\n",
        "        model = model,\n",
        "        args = Training_args,\n",
        "        train_dataset = train_dataset,\n",
        "       # eval_dataset = eval_dataset,\n",
        "        data_collator= train_dataset.collate_fn,\n",
        "        optimizers = (optimizer, lr_scheduler),\n",
        "    )\n",
        "\n",
        "    trainer.train()\n",
        "    trainer.save_model('deberta-finetuned')\n",
        "    return trainer.results"
      ]
    },
    {
      "cell_type": "code",
      "execution_count": 77,
      "metadata": {},
      "outputs": [],
      "source": [
        "# Code for evaluating model performance \n",
        "def predict_PCL(input, tokenizer, model, country=None):\n",
        "  \n",
        "  model.eval()\n",
        "  encodings = tokenizer(input, return_tensors='pt', padding=True, truncation=True, max_length=128)\n",
        "  if country is not None:\n",
        "    encodings['countries'] = country\n",
        "  \n",
        "  output = model(**encodings)\n",
        "  preds = torch.max(output, 1)\n",
        "\n",
        "  return {'prediction':preds[1], 'confidence':preds[0]}\n",
        "\n",
        "def evaluate(model, tokenizer, data_loader, score=True):\n",
        "\n",
        "  preds = []\n",
        "  tot_labels = []\n",
        "\n",
        "  with torch.no_grad():\n",
        "    \n",
        "    for data in tqdm(data_loader):\n",
        "\n",
        "      text = data['text']\n",
        "      # country = data['country'].float()\n",
        "      pred = predict_PCL(text, tokenizer, model)\n",
        "\n",
        "      preds.append(pred['prediction'].tolist())\n",
        "      if score:\n",
        "        tot_labels.append(data['target'].tolist())\n",
        "\n",
        "  if score:\n",
        "    # with the saved predictions and labels we can compute accuracy, precision, recall and f1-score\n",
        "    print(classification_report(tot_labels, preds, target_names=[\"Not PCL\",\"PCL\"]))\n",
        "\n",
        "  return preds\n"
      ]
    },
    {
      "cell_type": "markdown",
      "metadata": {},
      "source": [
        "# Applying Preprocessing + Data Augmentation"
      ]
    },
    {
      "cell_type": "code",
      "execution_count": 12,
      "metadata": {},
      "outputs": [
        {
          "ename": "KeyboardInterrupt",
          "evalue": "",
          "output_type": "error",
          "traceback": [
            "\u001b[0;31m---------------------------------------------------------------------------\u001b[0m",
            "\u001b[0;31mKeyboardInterrupt\u001b[0m                         Traceback (most recent call last)",
            "\u001b[1;32m/vol/bitbucket/grm23/NLP-PCL/Model finetuned!!! (1).ipynb Cell 21\u001b[0m line \u001b[0;36m2\n\u001b[1;32m      <a href='vscode-notebook-cell://ssh-remote%2Bcloud-vm-47-218.doc.ic.ac.uk/vol/bitbucket/grm23/NLP-PCL/Model%20finetuned%21%21%21%20%281%29.ipynb#X26sdnNjb2RlLXJlbW90ZQ%3D%3D?line=0'>1</a>\u001b[0m preprocessed_train_df \u001b[39m=\u001b[39m balanced_train_df\u001b[39m.\u001b[39mcopy(deep\u001b[39m=\u001b[39m\u001b[39mTrue\u001b[39;00m)\n\u001b[0;32m----> <a href='vscode-notebook-cell://ssh-remote%2Bcloud-vm-47-218.doc.ic.ac.uk/vol/bitbucket/grm23/NLP-PCL/Model%20finetuned%21%21%21%20%281%29.ipynb#X26sdnNjb2RlLXJlbW90ZQ%3D%3D?line=1'>2</a>\u001b[0m preprocessed_train_df[\u001b[39m'\u001b[39m\u001b[39mtext\u001b[39m\u001b[39m'\u001b[39m] \u001b[39m=\u001b[39m preprocessed_train_df[\u001b[39m'\u001b[39;49m\u001b[39mtext\u001b[39;49m\u001b[39m'\u001b[39;49m]\u001b[39m.\u001b[39;49mapply(\u001b[39mlambda\u001b[39;49;00m x: clean_text(x, whitespacing\u001b[39m=\u001b[39;49m\u001b[39mFalse\u001b[39;49;00m, standard_tokens\u001b[39m=\u001b[39;49m\u001b[39mTrue\u001b[39;49;00m,\n\u001b[1;32m      <a href='vscode-notebook-cell://ssh-remote%2Bcloud-vm-47-218.doc.ic.ac.uk/vol/bitbucket/grm23/NLP-PCL/Model%20finetuned%21%21%21%20%281%29.ipynb#X26sdnNjb2RlLXJlbW90ZQ%3D%3D?line=2'>3</a>\u001b[0m                                                                                          punctuation\u001b[39m=\u001b[39;49m\u001b[39mTrue\u001b[39;49;00m, stop_words\u001b[39m=\u001b[39;49m\u001b[39mTrue\u001b[39;49;00m, lower\u001b[39m=\u001b[39;49m\u001b[39mFalse\u001b[39;49;00m))\n",
            "File \u001b[0;32m/vol/bitbucket/grm23/nlp/nlp_env/lib/python3.10/site-packages/pandas/core/series.py:4915\u001b[0m, in \u001b[0;36mSeries.apply\u001b[0;34m(self, func, convert_dtype, args, by_row, **kwargs)\u001b[0m\n\u001b[1;32m   4780\u001b[0m \u001b[39mdef\u001b[39;00m \u001b[39mapply\u001b[39m(\n\u001b[1;32m   4781\u001b[0m     \u001b[39mself\u001b[39m,\n\u001b[1;32m   4782\u001b[0m     func: AggFuncType,\n\u001b[0;32m   (...)\u001b[0m\n\u001b[1;32m   4787\u001b[0m     \u001b[39m*\u001b[39m\u001b[39m*\u001b[39mkwargs,\n\u001b[1;32m   4788\u001b[0m ) \u001b[39m-\u001b[39m\u001b[39m>\u001b[39m DataFrame \u001b[39m|\u001b[39m Series:\n\u001b[1;32m   4789\u001b[0m \u001b[39m    \u001b[39m\u001b[39m\"\"\"\u001b[39;00m\n\u001b[1;32m   4790\u001b[0m \u001b[39m    Invoke function on values of Series.\u001b[39;00m\n\u001b[1;32m   4791\u001b[0m \n\u001b[0;32m   (...)\u001b[0m\n\u001b[1;32m   4906\u001b[0m \u001b[39m    dtype: float64\u001b[39;00m\n\u001b[1;32m   4907\u001b[0m \u001b[39m    \"\"\"\u001b[39;00m\n\u001b[1;32m   4908\u001b[0m     \u001b[39mreturn\u001b[39;00m SeriesApply(\n\u001b[1;32m   4909\u001b[0m         \u001b[39mself\u001b[39;49m,\n\u001b[1;32m   4910\u001b[0m         func,\n\u001b[1;32m   4911\u001b[0m         convert_dtype\u001b[39m=\u001b[39;49mconvert_dtype,\n\u001b[1;32m   4912\u001b[0m         by_row\u001b[39m=\u001b[39;49mby_row,\n\u001b[1;32m   4913\u001b[0m         args\u001b[39m=\u001b[39;49margs,\n\u001b[1;32m   4914\u001b[0m         kwargs\u001b[39m=\u001b[39;49mkwargs,\n\u001b[0;32m-> 4915\u001b[0m     )\u001b[39m.\u001b[39;49mapply()\n",
            "File \u001b[0;32m/vol/bitbucket/grm23/nlp/nlp_env/lib/python3.10/site-packages/pandas/core/apply.py:1427\u001b[0m, in \u001b[0;36mSeriesApply.apply\u001b[0;34m(self)\u001b[0m\n\u001b[1;32m   1424\u001b[0m     \u001b[39mreturn\u001b[39;00m \u001b[39mself\u001b[39m\u001b[39m.\u001b[39mapply_compat()\n\u001b[1;32m   1426\u001b[0m \u001b[39m# self.func is Callable\u001b[39;00m\n\u001b[0;32m-> 1427\u001b[0m \u001b[39mreturn\u001b[39;00m \u001b[39mself\u001b[39;49m\u001b[39m.\u001b[39;49mapply_standard()\n",
            "File \u001b[0;32m/vol/bitbucket/grm23/nlp/nlp_env/lib/python3.10/site-packages/pandas/core/apply.py:1507\u001b[0m, in \u001b[0;36mSeriesApply.apply_standard\u001b[0;34m(self)\u001b[0m\n\u001b[1;32m   1501\u001b[0m \u001b[39m# row-wise access\u001b[39;00m\n\u001b[1;32m   1502\u001b[0m \u001b[39m# apply doesn't have a `na_action` keyword and for backward compat reasons\u001b[39;00m\n\u001b[1;32m   1503\u001b[0m \u001b[39m# we need to give `na_action=\"ignore\"` for categorical data.\u001b[39;00m\n\u001b[1;32m   1504\u001b[0m \u001b[39m# TODO: remove the `na_action=\"ignore\"` when that default has been changed in\u001b[39;00m\n\u001b[1;32m   1505\u001b[0m \u001b[39m#  Categorical (GH51645).\u001b[39;00m\n\u001b[1;32m   1506\u001b[0m action \u001b[39m=\u001b[39m \u001b[39m\"\u001b[39m\u001b[39mignore\u001b[39m\u001b[39m\"\u001b[39m \u001b[39mif\u001b[39;00m \u001b[39misinstance\u001b[39m(obj\u001b[39m.\u001b[39mdtype, CategoricalDtype) \u001b[39melse\u001b[39;00m \u001b[39mNone\u001b[39;00m\n\u001b[0;32m-> 1507\u001b[0m mapped \u001b[39m=\u001b[39m obj\u001b[39m.\u001b[39;49m_map_values(\n\u001b[1;32m   1508\u001b[0m     mapper\u001b[39m=\u001b[39;49mcurried, na_action\u001b[39m=\u001b[39;49maction, convert\u001b[39m=\u001b[39;49m\u001b[39mself\u001b[39;49m\u001b[39m.\u001b[39;49mconvert_dtype\n\u001b[1;32m   1509\u001b[0m )\n\u001b[1;32m   1511\u001b[0m \u001b[39mif\u001b[39;00m \u001b[39mlen\u001b[39m(mapped) \u001b[39mand\u001b[39;00m \u001b[39misinstance\u001b[39m(mapped[\u001b[39m0\u001b[39m], ABCSeries):\n\u001b[1;32m   1512\u001b[0m     \u001b[39m# GH#43986 Need to do list(mapped) in order to get treated as nested\u001b[39;00m\n\u001b[1;32m   1513\u001b[0m     \u001b[39m#  See also GH#25959 regarding EA support\u001b[39;00m\n\u001b[1;32m   1514\u001b[0m     \u001b[39mreturn\u001b[39;00m obj\u001b[39m.\u001b[39m_constructor_expanddim(\u001b[39mlist\u001b[39m(mapped), index\u001b[39m=\u001b[39mobj\u001b[39m.\u001b[39mindex)\n",
            "File \u001b[0;32m/vol/bitbucket/grm23/nlp/nlp_env/lib/python3.10/site-packages/pandas/core/base.py:921\u001b[0m, in \u001b[0;36mIndexOpsMixin._map_values\u001b[0;34m(self, mapper, na_action, convert)\u001b[0m\n\u001b[1;32m    918\u001b[0m \u001b[39mif\u001b[39;00m \u001b[39misinstance\u001b[39m(arr, ExtensionArray):\n\u001b[1;32m    919\u001b[0m     \u001b[39mreturn\u001b[39;00m arr\u001b[39m.\u001b[39mmap(mapper, na_action\u001b[39m=\u001b[39mna_action)\n\u001b[0;32m--> 921\u001b[0m \u001b[39mreturn\u001b[39;00m algorithms\u001b[39m.\u001b[39;49mmap_array(arr, mapper, na_action\u001b[39m=\u001b[39;49mna_action, convert\u001b[39m=\u001b[39;49mconvert)\n",
            "File \u001b[0;32m/vol/bitbucket/grm23/nlp/nlp_env/lib/python3.10/site-packages/pandas/core/algorithms.py:1743\u001b[0m, in \u001b[0;36mmap_array\u001b[0;34m(arr, mapper, na_action, convert)\u001b[0m\n\u001b[1;32m   1741\u001b[0m values \u001b[39m=\u001b[39m arr\u001b[39m.\u001b[39mastype(\u001b[39mobject\u001b[39m, copy\u001b[39m=\u001b[39m\u001b[39mFalse\u001b[39;00m)\n\u001b[1;32m   1742\u001b[0m \u001b[39mif\u001b[39;00m na_action \u001b[39mis\u001b[39;00m \u001b[39mNone\u001b[39;00m:\n\u001b[0;32m-> 1743\u001b[0m     \u001b[39mreturn\u001b[39;00m lib\u001b[39m.\u001b[39;49mmap_infer(values, mapper, convert\u001b[39m=\u001b[39;49mconvert)\n\u001b[1;32m   1744\u001b[0m \u001b[39melse\u001b[39;00m:\n\u001b[1;32m   1745\u001b[0m     \u001b[39mreturn\u001b[39;00m lib\u001b[39m.\u001b[39mmap_infer_mask(\n\u001b[1;32m   1746\u001b[0m         values, mapper, mask\u001b[39m=\u001b[39misna(values)\u001b[39m.\u001b[39mview(np\u001b[39m.\u001b[39muint8), convert\u001b[39m=\u001b[39mconvert\n\u001b[1;32m   1747\u001b[0m     )\n",
            "File \u001b[0;32mlib.pyx:2972\u001b[0m, in \u001b[0;36mpandas._libs.lib.map_infer\u001b[0;34m()\u001b[0m\n",
            "\u001b[1;32m/vol/bitbucket/grm23/NLP-PCL/Model finetuned!!! (1).ipynb Cell 21\u001b[0m line \u001b[0;36m2\n\u001b[1;32m      <a href='vscode-notebook-cell://ssh-remote%2Bcloud-vm-47-218.doc.ic.ac.uk/vol/bitbucket/grm23/NLP-PCL/Model%20finetuned%21%21%21%20%281%29.ipynb#X26sdnNjb2RlLXJlbW90ZQ%3D%3D?line=0'>1</a>\u001b[0m preprocessed_train_df \u001b[39m=\u001b[39m balanced_train_df\u001b[39m.\u001b[39mcopy(deep\u001b[39m=\u001b[39m\u001b[39mTrue\u001b[39;00m)\n\u001b[0;32m----> <a href='vscode-notebook-cell://ssh-remote%2Bcloud-vm-47-218.doc.ic.ac.uk/vol/bitbucket/grm23/NLP-PCL/Model%20finetuned%21%21%21%20%281%29.ipynb#X26sdnNjb2RlLXJlbW90ZQ%3D%3D?line=1'>2</a>\u001b[0m preprocessed_train_df[\u001b[39m'\u001b[39m\u001b[39mtext\u001b[39m\u001b[39m'\u001b[39m] \u001b[39m=\u001b[39m preprocessed_train_df[\u001b[39m'\u001b[39m\u001b[39mtext\u001b[39m\u001b[39m'\u001b[39m]\u001b[39m.\u001b[39mapply(\u001b[39mlambda\u001b[39;00m x: clean_text(x, whitespacing\u001b[39m=\u001b[39;49m\u001b[39mFalse\u001b[39;49;00m, standard_tokens\u001b[39m=\u001b[39;49m\u001b[39mTrue\u001b[39;49;00m,\n\u001b[1;32m      <a href='vscode-notebook-cell://ssh-remote%2Bcloud-vm-47-218.doc.ic.ac.uk/vol/bitbucket/grm23/NLP-PCL/Model%20finetuned%21%21%21%20%281%29.ipynb#X26sdnNjb2RlLXJlbW90ZQ%3D%3D?line=2'>3</a>\u001b[0m                                                                                          punctuation\u001b[39m=\u001b[39;49m\u001b[39mTrue\u001b[39;49;00m, stop_words\u001b[39m=\u001b[39;49m\u001b[39mTrue\u001b[39;49;00m, lower\u001b[39m=\u001b[39;49m\u001b[39mFalse\u001b[39;49;00m))\n",
            "\u001b[1;32m/vol/bitbucket/grm23/NLP-PCL/Model finetuned!!! (1).ipynb Cell 21\u001b[0m line \u001b[0;36m8\n\u001b[1;32m      <a href='vscode-notebook-cell://ssh-remote%2Bcloud-vm-47-218.doc.ic.ac.uk/vol/bitbucket/grm23/NLP-PCL/Model%20finetuned%21%21%21%20%281%29.ipynb#X26sdnNjb2RlLXJlbW90ZQ%3D%3D?line=4'>5</a>\u001b[0m \u001b[39mif\u001b[39;00m stop_words:\n\u001b[1;32m      <a href='vscode-notebook-cell://ssh-remote%2Bcloud-vm-47-218.doc.ic.ac.uk/vol/bitbucket/grm23/NLP-PCL/Model%20finetuned%21%21%21%20%281%29.ipynb#X26sdnNjb2RlLXJlbW90ZQ%3D%3D?line=5'>6</a>\u001b[0m     \u001b[39m# Stop words --> token\u001b[39;00m\n\u001b[1;32m      <a href='vscode-notebook-cell://ssh-remote%2Bcloud-vm-47-218.doc.ic.ac.uk/vol/bitbucket/grm23/NLP-PCL/Model%20finetuned%21%21%21%20%281%29.ipynb#X26sdnNjb2RlLXJlbW90ZQ%3D%3D?line=6'>7</a>\u001b[0m     words \u001b[39m=\u001b[39m word_tokenize(text)\n\u001b[0;32m----> <a href='vscode-notebook-cell://ssh-remote%2Bcloud-vm-47-218.doc.ic.ac.uk/vol/bitbucket/grm23/NLP-PCL/Model%20finetuned%21%21%21%20%281%29.ipynb#X26sdnNjb2RlLXJlbW90ZQ%3D%3D?line=7'>8</a>\u001b[0m     words \u001b[39m=\u001b[39m [word \u001b[39mfor\u001b[39;00m word \u001b[39min\u001b[39;00m words \u001b[39mif\u001b[39;00m word \u001b[39mnot\u001b[39;00m \u001b[39min\u001b[39;00m stopwords\u001b[39m.\u001b[39mwords(\u001b[39m\"\u001b[39m\u001b[39menglish\u001b[39m\u001b[39m\"\u001b[39m) \u001b[39mand\u001b[39;00m word\u001b[39m.\u001b[39misalpha()]\n\u001b[1;32m      <a href='vscode-notebook-cell://ssh-remote%2Bcloud-vm-47-218.doc.ic.ac.uk/vol/bitbucket/grm23/NLP-PCL/Model%20finetuned%21%21%21%20%281%29.ipynb#X26sdnNjb2RlLXJlbW90ZQ%3D%3D?line=8'>9</a>\u001b[0m     text \u001b[39m=\u001b[39m \u001b[39m\"\u001b[39m\u001b[39m \u001b[39m\u001b[39m\"\u001b[39m\u001b[39m.\u001b[39mjoin(words)\n\u001b[1;32m     <a href='vscode-notebook-cell://ssh-remote%2Bcloud-vm-47-218.doc.ic.ac.uk/vol/bitbucket/grm23/NLP-PCL/Model%20finetuned%21%21%21%20%281%29.ipynb#X26sdnNjb2RlLXJlbW90ZQ%3D%3D?line=10'>11</a>\u001b[0m \u001b[39mif\u001b[39;00m lower:\n",
            "\u001b[1;32m/vol/bitbucket/grm23/NLP-PCL/Model finetuned!!! (1).ipynb Cell 21\u001b[0m line \u001b[0;36m8\n\u001b[1;32m      <a href='vscode-notebook-cell://ssh-remote%2Bcloud-vm-47-218.doc.ic.ac.uk/vol/bitbucket/grm23/NLP-PCL/Model%20finetuned%21%21%21%20%281%29.ipynb#X26sdnNjb2RlLXJlbW90ZQ%3D%3D?line=4'>5</a>\u001b[0m \u001b[39mif\u001b[39;00m stop_words:\n\u001b[1;32m      <a href='vscode-notebook-cell://ssh-remote%2Bcloud-vm-47-218.doc.ic.ac.uk/vol/bitbucket/grm23/NLP-PCL/Model%20finetuned%21%21%21%20%281%29.ipynb#X26sdnNjb2RlLXJlbW90ZQ%3D%3D?line=5'>6</a>\u001b[0m     \u001b[39m# Stop words --> token\u001b[39;00m\n\u001b[1;32m      <a href='vscode-notebook-cell://ssh-remote%2Bcloud-vm-47-218.doc.ic.ac.uk/vol/bitbucket/grm23/NLP-PCL/Model%20finetuned%21%21%21%20%281%29.ipynb#X26sdnNjb2RlLXJlbW90ZQ%3D%3D?line=6'>7</a>\u001b[0m     words \u001b[39m=\u001b[39m word_tokenize(text)\n\u001b[0;32m----> <a href='vscode-notebook-cell://ssh-remote%2Bcloud-vm-47-218.doc.ic.ac.uk/vol/bitbucket/grm23/NLP-PCL/Model%20finetuned%21%21%21%20%281%29.ipynb#X26sdnNjb2RlLXJlbW90ZQ%3D%3D?line=7'>8</a>\u001b[0m     words \u001b[39m=\u001b[39m [word \u001b[39mfor\u001b[39;00m word \u001b[39min\u001b[39;00m words \u001b[39mif\u001b[39;00m word \u001b[39mnot\u001b[39;00m \u001b[39min\u001b[39;00m stopwords\u001b[39m.\u001b[39;49mwords(\u001b[39m\"\u001b[39;49m\u001b[39menglish\u001b[39;49m\u001b[39m\"\u001b[39;49m) \u001b[39mand\u001b[39;00m word\u001b[39m.\u001b[39misalpha()]\n\u001b[1;32m      <a href='vscode-notebook-cell://ssh-remote%2Bcloud-vm-47-218.doc.ic.ac.uk/vol/bitbucket/grm23/NLP-PCL/Model%20finetuned%21%21%21%20%281%29.ipynb#X26sdnNjb2RlLXJlbW90ZQ%3D%3D?line=8'>9</a>\u001b[0m     text \u001b[39m=\u001b[39m \u001b[39m\"\u001b[39m\u001b[39m \u001b[39m\u001b[39m\"\u001b[39m\u001b[39m.\u001b[39mjoin(words)\n\u001b[1;32m     <a href='vscode-notebook-cell://ssh-remote%2Bcloud-vm-47-218.doc.ic.ac.uk/vol/bitbucket/grm23/NLP-PCL/Model%20finetuned%21%21%21%20%281%29.ipynb#X26sdnNjb2RlLXJlbW90ZQ%3D%3D?line=10'>11</a>\u001b[0m \u001b[39mif\u001b[39;00m lower:\n",
            "File \u001b[0;32m/vol/bitbucket/grm23/nlp/nlp_env/lib/python3.10/site-packages/nltk/corpus/reader/wordlist.py:21\u001b[0m, in \u001b[0;36mWordListCorpusReader.words\u001b[0;34m(self, fileids, ignore_lines_startswith)\u001b[0m\n\u001b[1;32m     18\u001b[0m \u001b[39mdef\u001b[39;00m \u001b[39mwords\u001b[39m(\u001b[39mself\u001b[39m, fileids\u001b[39m=\u001b[39m\u001b[39mNone\u001b[39;00m, ignore_lines_startswith\u001b[39m=\u001b[39m\u001b[39m\"\u001b[39m\u001b[39m\\n\u001b[39;00m\u001b[39m\"\u001b[39m):\n\u001b[1;32m     19\u001b[0m     \u001b[39mreturn\u001b[39;00m [\n\u001b[1;32m     20\u001b[0m         line\n\u001b[0;32m---> 21\u001b[0m         \u001b[39mfor\u001b[39;00m line \u001b[39min\u001b[39;00m line_tokenize(\u001b[39mself\u001b[39;49m\u001b[39m.\u001b[39;49mraw(fileids))\n\u001b[1;32m     22\u001b[0m         \u001b[39mif\u001b[39;00m \u001b[39mnot\u001b[39;00m line\u001b[39m.\u001b[39mstartswith(ignore_lines_startswith)\n\u001b[1;32m     23\u001b[0m     ]\n",
            "File \u001b[0;32m/vol/bitbucket/grm23/nlp/nlp_env/lib/python3.10/site-packages/nltk/corpus/reader/api.py:218\u001b[0m, in \u001b[0;36mCorpusReader.raw\u001b[0;34m(self, fileids)\u001b[0m\n\u001b[1;32m    216\u001b[0m contents \u001b[39m=\u001b[39m []\n\u001b[1;32m    217\u001b[0m \u001b[39mfor\u001b[39;00m f \u001b[39min\u001b[39;00m fileids:\n\u001b[0;32m--> 218\u001b[0m     \u001b[39mwith\u001b[39;00m \u001b[39mself\u001b[39;49m\u001b[39m.\u001b[39;49mopen(f) \u001b[39mas\u001b[39;00m fp:\n\u001b[1;32m    219\u001b[0m         contents\u001b[39m.\u001b[39mappend(fp\u001b[39m.\u001b[39mread())\n\u001b[1;32m    220\u001b[0m \u001b[39mreturn\u001b[39;00m concat(contents)\n",
            "File \u001b[0;32m/vol/bitbucket/grm23/nlp/nlp_env/lib/python3.10/site-packages/nltk/corpus/reader/api.py:231\u001b[0m, in \u001b[0;36mCorpusReader.open\u001b[0;34m(self, file)\u001b[0m\n\u001b[1;32m    223\u001b[0m \u001b[39m\u001b[39m\u001b[39m\"\"\"\u001b[39;00m\n\u001b[1;32m    224\u001b[0m \u001b[39mReturn an open stream that can be used to read the given file.\u001b[39;00m\n\u001b[1;32m    225\u001b[0m \u001b[39mIf the file's encoding is not None, then the stream will\u001b[39;00m\n\u001b[0;32m   (...)\u001b[0m\n\u001b[1;32m    228\u001b[0m \u001b[39m:param file: The file identifier of the file to read.\u001b[39;00m\n\u001b[1;32m    229\u001b[0m \u001b[39m\"\"\"\u001b[39;00m\n\u001b[1;32m    230\u001b[0m encoding \u001b[39m=\u001b[39m \u001b[39mself\u001b[39m\u001b[39m.\u001b[39mencoding(file)\n\u001b[0;32m--> 231\u001b[0m stream \u001b[39m=\u001b[39m \u001b[39mself\u001b[39;49m\u001b[39m.\u001b[39;49m_root\u001b[39m.\u001b[39;49mjoin(file)\u001b[39m.\u001b[39;49mopen(encoding)\n\u001b[1;32m    232\u001b[0m \u001b[39mreturn\u001b[39;00m stream\n",
            "File \u001b[0;32m/vol/bitbucket/grm23/nlp/nlp_env/lib/python3.10/site-packages/nltk/data.py:324\u001b[0m, in \u001b[0;36mFileSystemPathPointer.open\u001b[0;34m(self, encoding)\u001b[0m\n\u001b[1;32m    323\u001b[0m \u001b[39mdef\u001b[39;00m \u001b[39mopen\u001b[39m(\u001b[39mself\u001b[39m, encoding\u001b[39m=\u001b[39m\u001b[39mNone\u001b[39;00m):\n\u001b[0;32m--> 324\u001b[0m     stream \u001b[39m=\u001b[39m \u001b[39mopen\u001b[39;49m(\u001b[39mself\u001b[39;49m\u001b[39m.\u001b[39;49m_path, \u001b[39m\"\u001b[39;49m\u001b[39mrb\u001b[39;49m\u001b[39m\"\u001b[39;49m)\n\u001b[1;32m    325\u001b[0m     \u001b[39mif\u001b[39;00m encoding \u001b[39mis\u001b[39;00m \u001b[39mnot\u001b[39;00m \u001b[39mNone\u001b[39;00m:\n\u001b[1;32m    326\u001b[0m         stream \u001b[39m=\u001b[39m SeekableUnicodeStreamReader(stream, encoding)\n",
            "\u001b[0;31mKeyboardInterrupt\u001b[0m: "
          ]
        }
      ],
      "source": [
        "# Applies preprocessing from clean_text\n",
        "\n",
        "preprocessed_train_df = balanced_train_df.copy(deep=True)\n",
        "preprocessed_train_df['text'] = preprocessed_train_df['text'].apply(lambda x: clean_text(x, whitespacing=False, standard_tokens=True,\n",
        "                                                                                         punctuation=True, stop_words=True, lower=False))\n"
      ]
    },
    {
      "cell_type": "code",
      "execution_count": 18,
      "metadata": {},
      "outputs": [],
      "source": [
        "augmented_train_df = balanced_train_df.copy(deep=True)\n",
        "\n",
        "augmented_rows = []\n",
        "\n",
        "for index, row in augmented_train_df.iterrows():\n",
        "    if row['label'] == 0:\n",
        "        continue\n",
        "    else:\n",
        "        # Apply the augmenter function to the 'text' column\n",
        "        augmented_text = augmenter(row['text'], deletion=False, Synonym=True, Spelling=False, CWE=True)\n",
        "        # Create a new row with the augmented text\n",
        "        augmented_row = row.copy()\n",
        "        augmented_row['text'] = augmented_text\n",
        "        \n",
        "        # Append the new row to the list\n",
        "        augmented_rows.append(augmented_row)\n",
        "\n",
        "# Convert the list of augmented rows to a DataFrame\n",
        "augmented_rows_df = pd.DataFrame(augmented_rows)\n",
        "\n",
        "# Append the new DataFrame to the original DataFrame\n",
        "augmented_train_df = pd.concat([augmented_train_df, augmented_rows_df])"
      ]
    },
    {
      "cell_type": "markdown",
      "metadata": {},
      "source": [
        "# TRAINING"
      ]
    },
    {
      "cell_type": "code",
      "execution_count": 19,
      "metadata": {},
      "outputs": [
        {
          "name": "stderr",
          "output_type": "stream",
          "text": [
            "Some weights of DebertaClassification were not initialized from the model checkpoint at microsoft/deberta-base and are newly initialized: ['projection.1.bias', 'projection.1.weight']\n",
            "You should probably TRAIN this model on a down-stream task to be able to use it for predictions and inference.\n",
            "ERROR:wandb.jupyter:Failed to detect the name of this notebook, you can set it manually with the WANDB_NOTEBOOK_NAME environment variable to enable code saving.\n",
            "\u001b[34m\u001b[1mwandb\u001b[0m: Currently logged in as: \u001b[33mgrm23\u001b[0m (\u001b[33mmavro\u001b[0m). Use \u001b[1m`wandb login --relogin`\u001b[0m to force relogin\n"
          ]
        },
        {
          "data": {
            "text/html": [
              "Tracking run with wandb version 0.16.3"
            ],
            "text/plain": [
              "<IPython.core.display.HTML object>"
            ]
          },
          "metadata": {},
          "output_type": "display_data"
        },
        {
          "data": {
            "text/html": [
              "Run data is saved locally in <code>/vol/bitbucket/grm23/NLP-PCL/wandb/run-20240303_001007-0dc7ibgt</code>"
            ],
            "text/plain": [
              "<IPython.core.display.HTML object>"
            ]
          },
          "metadata": {},
          "output_type": "display_data"
        },
        {
          "data": {
            "text/html": [
              "Syncing run <strong><a href='https://wandb.ai/mavro/huggingface/runs/0dc7ibgt' target=\"_blank\">logical-vortex-11</a></strong> to <a href='https://wandb.ai/mavro/huggingface' target=\"_blank\">Weights & Biases</a> (<a href='https://wandb.me/run' target=\"_blank\">docs</a>)<br/>"
            ],
            "text/plain": [
              "<IPython.core.display.HTML object>"
            ]
          },
          "metadata": {},
          "output_type": "display_data"
        },
        {
          "data": {
            "text/html": [
              " View project at <a href='https://wandb.ai/mavro/huggingface' target=\"_blank\">https://wandb.ai/mavro/huggingface</a>"
            ],
            "text/plain": [
              "<IPython.core.display.HTML object>"
            ]
          },
          "metadata": {},
          "output_type": "display_data"
        },
        {
          "data": {
            "text/html": [
              " View run at <a href='https://wandb.ai/mavro/huggingface/runs/0dc7ibgt' target=\"_blank\">https://wandb.ai/mavro/huggingface/runs/0dc7ibgt</a>"
            ],
            "text/plain": [
              "<IPython.core.display.HTML object>"
            ]
          },
          "metadata": {},
          "output_type": "display_data"
        },
        {
          "data": {
            "text/html": [
              "\n",
              "    <div>\n",
              "      \n",
              "      <progress value='4470' max='4470' style='width:300px; height:20px; vertical-align: middle;'></progress>\n",
              "      [4470/4470 14:11, Epoch 10/10]\n",
              "    </div>\n",
              "    <table border=\"1\" class=\"dataframe\">\n",
              "  <thead>\n",
              " <tr style=\"text-align: left;\">\n",
              "      <th>Step</th>\n",
              "      <th>Training Loss</th>\n",
              "    </tr>\n",
              "  </thead>\n",
              "  <tbody>\n",
              "    <tr>\n",
              "      <td>100</td>\n",
              "      <td>0.678400</td>\n",
              "    </tr>\n",
              "    <tr>\n",
              "      <td>200</td>\n",
              "      <td>0.478200</td>\n",
              "    </tr>\n",
              "    <tr>\n",
              "      <td>300</td>\n",
              "      <td>0.461500</td>\n",
              "    </tr>\n",
              "    <tr>\n",
              "      <td>400</td>\n",
              "      <td>0.351600</td>\n",
              "    </tr>\n",
              "    <tr>\n",
              "      <td>500</td>\n",
              "      <td>0.359000</td>\n",
              "    </tr>\n",
              "    <tr>\n",
              "      <td>600</td>\n",
              "      <td>0.310800</td>\n",
              "    </tr>\n",
              "    <tr>\n",
              "      <td>700</td>\n",
              "      <td>0.380100</td>\n",
              "    </tr>\n",
              "    <tr>\n",
              "      <td>800</td>\n",
              "      <td>0.421400</td>\n",
              "    </tr>\n",
              "    <tr>\n",
              "      <td>900</td>\n",
              "      <td>0.265900</td>\n",
              "    </tr>\n",
              "    <tr>\n",
              "      <td>1000</td>\n",
              "      <td>0.243700</td>\n",
              "    </tr>\n",
              "    <tr>\n",
              "      <td>1100</td>\n",
              "      <td>0.229100</td>\n",
              "    </tr>\n",
              "    <tr>\n",
              "      <td>1200</td>\n",
              "      <td>0.326800</td>\n",
              "    </tr>\n",
              "    <tr>\n",
              "      <td>1300</td>\n",
              "      <td>0.303000</td>\n",
              "    </tr>\n",
              "    <tr>\n",
              "      <td>1400</td>\n",
              "      <td>0.223900</td>\n",
              "    </tr>\n",
              "    <tr>\n",
              "      <td>1500</td>\n",
              "      <td>0.220600</td>\n",
              "    </tr>\n",
              "    <tr>\n",
              "      <td>1600</td>\n",
              "      <td>0.190700</td>\n",
              "    </tr>\n",
              "    <tr>\n",
              "      <td>1700</td>\n",
              "      <td>0.174100</td>\n",
              "    </tr>\n",
              "    <tr>\n",
              "      <td>1800</td>\n",
              "      <td>0.222000</td>\n",
              "    </tr>\n",
              "    <tr>\n",
              "      <td>1900</td>\n",
              "      <td>0.109700</td>\n",
              "    </tr>\n",
              "    <tr>\n",
              "      <td>2000</td>\n",
              "      <td>0.144700</td>\n",
              "    </tr>\n",
              "    <tr>\n",
              "      <td>2100</td>\n",
              "      <td>0.170700</td>\n",
              "    </tr>\n",
              "    <tr>\n",
              "      <td>2200</td>\n",
              "      <td>0.160400</td>\n",
              "    </tr>\n",
              "    <tr>\n",
              "      <td>2300</td>\n",
              "      <td>0.159000</td>\n",
              "    </tr>\n",
              "    <tr>\n",
              "      <td>2400</td>\n",
              "      <td>0.140500</td>\n",
              "    </tr>\n",
              "    <tr>\n",
              "      <td>2500</td>\n",
              "      <td>0.074300</td>\n",
              "    </tr>\n",
              "    <tr>\n",
              "      <td>2600</td>\n",
              "      <td>0.104000</td>\n",
              "    </tr>\n",
              "    <tr>\n",
              "      <td>2700</td>\n",
              "      <td>0.135400</td>\n",
              "    </tr>\n",
              "    <tr>\n",
              "      <td>2800</td>\n",
              "      <td>0.039500</td>\n",
              "    </tr>\n",
              "    <tr>\n",
              "      <td>2900</td>\n",
              "      <td>0.042800</td>\n",
              "    </tr>\n",
              "    <tr>\n",
              "      <td>3000</td>\n",
              "      <td>0.064500</td>\n",
              "    </tr>\n",
              "    <tr>\n",
              "      <td>3100</td>\n",
              "      <td>0.066800</td>\n",
              "    </tr>\n",
              "    <tr>\n",
              "      <td>3200</td>\n",
              "      <td>0.031800</td>\n",
              "    </tr>\n",
              "    <tr>\n",
              "      <td>3300</td>\n",
              "      <td>0.041400</td>\n",
              "    </tr>\n",
              "    <tr>\n",
              "      <td>3400</td>\n",
              "      <td>0.016500</td>\n",
              "    </tr>\n",
              "    <tr>\n",
              "      <td>3500</td>\n",
              "      <td>0.023900</td>\n",
              "    </tr>\n",
              "    <tr>\n",
              "      <td>3600</td>\n",
              "      <td>0.081500</td>\n",
              "    </tr>\n",
              "    <tr>\n",
              "      <td>3700</td>\n",
              "      <td>0.025700</td>\n",
              "    </tr>\n",
              "    <tr>\n",
              "      <td>3800</td>\n",
              "      <td>0.028000</td>\n",
              "    </tr>\n",
              "    <tr>\n",
              "      <td>3900</td>\n",
              "      <td>0.026400</td>\n",
              "    </tr>\n",
              "    <tr>\n",
              "      <td>4000</td>\n",
              "      <td>0.037500</td>\n",
              "    </tr>\n",
              "    <tr>\n",
              "      <td>4100</td>\n",
              "      <td>0.000100</td>\n",
              "    </tr>\n",
              "    <tr>\n",
              "      <td>4200</td>\n",
              "      <td>0.029700</td>\n",
              "    </tr>\n",
              "    <tr>\n",
              "      <td>4300</td>\n",
              "      <td>0.035000</td>\n",
              "    </tr>\n",
              "    <tr>\n",
              "      <td>4400</td>\n",
              "      <td>0.013900</td>\n",
              "    </tr>\n",
              "  </tbody>\n",
              "</table><p>"
            ],
            "text/plain": [
              "<IPython.core.display.HTML object>"
            ]
          },
          "metadata": {},
          "output_type": "display_data"
        },
        {
          "name": "stderr",
          "output_type": "stream",
          "text": [
            "Checkpoint destination directory test_trainer/checkpoint-500 already exists and is non-empty. Saving will proceed but saved results may be invalid.\n",
            "Checkpoint destination directory test_trainer/checkpoint-1000 already exists and is non-empty. Saving will proceed but saved results may be invalid.\n",
            "Checkpoint destination directory test_trainer/checkpoint-1500 already exists and is non-empty. Saving will proceed but saved results may be invalid.\n",
            "Checkpoint destination directory test_trainer/checkpoint-2000 already exists and is non-empty. Saving will proceed but saved results may be invalid.\n",
            "Checkpoint destination directory test_trainer/checkpoint-2500 already exists and is non-empty. Saving will proceed but saved results may be invalid.\n",
            "Checkpoint destination directory test_trainer/checkpoint-3000 already exists and is non-empty. Saving will proceed but saved results may be invalid.\n",
            "Checkpoint destination directory test_trainer/checkpoint-3500 already exists and is non-empty. Saving will proceed but saved results may be invalid.\n",
            "Checkpoint destination directory test_trainer/checkpoint-4000 already exists and is non-empty. Saving will proceed but saved results may be invalid.\n"
          ]
        }
      ],
      "source": [
        "# model = JoBert.from_pretrained('FacebookAI/roberta-base').to(device)\n",
        "model = DebertaClassification.from_pretrained('microsoft/deberta-base').to(device)\n",
        "\n",
        "lr = 1e-5\n",
        "#optimizer = optim.AdamW(model.parameters(), lr)\n",
        "optimizer = optim.AdamW(model.parameters(), lr)\n",
        "lrs = lr_scheduler.CosineAnnealingLR(optimizer, T_max=10)\n",
        "results = train(model, augmented_train_df, num_epochs= 10, lr=lr, optimizer=optimizer, lr_scheduler=lrs)"
      ]
    },
    {
      "cell_type": "code",
      "execution_count": 22,
      "metadata": {},
      "outputs": [
        {
          "name": "stderr",
          "output_type": "stream",
          "text": [
            "100%|██████████| 2094/2094 [03:14<00:00, 10.77it/s]"
          ]
        },
        {
          "name": "stdout",
          "output_type": "stream",
          "text": [
            "              precision    recall  f1-score   support\n",
            "\n",
            "     Not PCL       0.97      0.91      0.94      1895\n",
            "         PCL       0.46      0.69      0.55       199\n",
            "\n",
            "    accuracy                           0.89      2094\n",
            "   macro avg       0.71      0.80      0.74      2094\n",
            "weighted avg       0.92      0.89      0.90      2094\n",
            "\n"
          ]
        },
        {
          "name": "stderr",
          "output_type": "stream",
          "text": [
            "\n"
          ]
        }
      ],
      "source": [
        "model = DebertaClassification.from_pretrained('deberta-finetuned')\n",
        "tokenizer = DebertaTokenizer.from_pretrained('microsoft/deberta-base')\n",
        "\n",
        "test_dataset = DPMDataset(dev_df, tokenizer, 128)\n",
        "test_loader = DataLoader(test_dataset, shuffle=False)\n",
        "\n",
        "preds = evaluate(model, tokenizer, test_loader)"
      ]
    },
    {
      "cell_type": "code",
      "execution_count": 61,
      "metadata": {},
      "outputs": [],
      "source": [
        "def labels2file(p, outf_path):\n",
        "\twith open(outf_path,'w') as outf:\n",
        "\t\tfor pi in p:\n",
        "\t\t\toutf.write(','.join([str(k) for k in pi])+'\\n')"
      ]
    },
    {
      "cell_type": "code",
      "execution_count": 62,
      "metadata": {},
      "outputs": [],
      "source": [
        "labels2file([k for k in preds], 'dev.txt')"
      ]
    },
    {
      "cell_type": "markdown",
      "metadata": {},
      "source": [
        "# Baseline Model Experiementation"
      ]
    },
    {
      "cell_type": "code",
      "execution_count": 28,
      "metadata": {},
      "outputs": [
        {
          "name": "stdout",
          "output_type": "stream",
          "text": [
            "Decision Tree:\n",
            "               precision    recall  f1-score   support\n",
            "\n",
            "     Not PCL       0.93      0.83      0.88      1895\n",
            "         PCL       0.21      0.44      0.28       199\n",
            "\n",
            "    accuracy                           0.79      2094\n",
            "   macro avg       0.57      0.63      0.58      2094\n",
            "weighted avg       0.86      0.79      0.82      2094\n",
            "\n",
            "LogisticRegression:\n",
            "               precision    recall  f1-score   support\n",
            "\n",
            "     Not PCL       0.93      0.91      0.92      1895\n",
            "         PCL       0.31      0.39      0.35       199\n",
            "\n",
            "    accuracy                           0.86      2094\n",
            "   macro avg       0.62      0.65      0.63      2094\n",
            "weighted avg       0.88      0.86      0.87      2094\n",
            "\n"
          ]
        }
      ],
      "source": [
        "import nltk\n",
        "from nltk.corpus import stopwords\n",
        "from sklearn.feature_extraction.text import TfidfVectorizer, CountVectorizer\n",
        "from sklearn.model_selection import train_test_split\n",
        "from sklearn.linear_model import LinearRegression, LogisticRegression\n",
        "from sklearn.tree import DecisionTreeClassifier\n",
        "\n",
        "# Sample dataset\n",
        "X_train = augmented_train_df['text']\n",
        "y_train = augmented_train_df['label']  \n",
        "\n",
        "X_dev = dev_df['text']\n",
        "y_dev = dev_df['label']\n",
        "\n",
        "stop_words = stopwords.words('english')\n",
        "\n",
        "vectorizer = CountVectorizer(strip_accents='ascii', stop_words=None, ngram_range=(2,2))\n",
        "\n",
        "# Fit and transform the text data to numerical vectors\n",
        "X_train = vectorizer.fit_transform(X_train)\n",
        "X_dev = vectorizer.transform(X_dev)\n",
        "\n",
        "lr = LogisticRegression(random_state=1)\n",
        "dt = DecisionTreeClassifier(random_state=1)\n",
        "\n",
        "lr.fit(X_train, y_train)\n",
        "dt.fit(X_train, y_train)\n",
        "\n",
        "lr_pred = lr.predict(X_dev)\n",
        "dt_pred = dt.predict(X_dev)\n",
        "\n",
        "\n",
        "print(\"Decision Tree:\\n\", classification_report(y_dev, dt_pred, target_names=[\"Not PCL\",\"PCL\"]))\n",
        "print(\"LogisticRegression:\\n\", classification_report(y_dev, lr_pred, target_names=[\"Not PCL\",\"PCL\"]))"
      ]
    },
    {
      "cell_type": "markdown",
      "metadata": {},
      "source": [
        "# Model evaluation, plots, experimentation, etc..."
      ]
    },
    {
      "cell_type": "code",
      "execution_count": 75,
      "metadata": {},
      "outputs": [],
      "source": [
        "# load the test file\n",
        "dpm.load_test()\n",
        "\n",
        "test_df = dpm.test_set_df"
      ]
    },
    {
      "cell_type": "code",
      "execution_count": 81,
      "metadata": {},
      "outputs": [
        {
          "name": "stderr",
          "output_type": "stream",
          "text": [
            "100%|██████████| 3832/3832 [05:21<00:00, 11.91it/s]\n"
          ]
        }
      ],
      "source": [
        "model = DebertaClassification.from_pretrained('deberta-finetuned')\n",
        "tokenizer = DebertaTokenizer.from_pretrained('microsoft/deberta-base')\n",
        "\n",
        "test_dataset = DPMDataset(test_df, tokenizer, 128, test_set=True)\n",
        "test_loader = DataLoader(test_dataset, shuffle=False)\n",
        "\n",
        "preds = evaluate(model, tokenizer, test_loader, score=False)"
      ]
    },
    {
      "cell_type": "code",
      "execution_count": 89,
      "metadata": {},
      "outputs": [],
      "source": [
        "labels2file([k for k in preds], 'text.txt')"
      ]
    },
    {
      "cell_type": "code",
      "execution_count": 30,
      "metadata": {},
      "outputs": [
        {
          "name": "stderr",
          "output_type": "stream",
          "text": [
            "/tmp/ipykernel_526183/1407958860.py:16: SettingWithCopyWarning: \n",
            "A value is trying to be set on a copy of a slice from a DataFrame.\n",
            "Try using .loc[row_indexer,col_indexer] = value instead\n",
            "\n",
            "See the caveats in the documentation: https://pandas.pydata.org/pandas-docs/stable/user_guide/indexing.html#returning-a-view-versus-a-copy\n",
            "  data_fn['text_length'] = data_fn['text'].str.split().str.len()\n",
            "/tmp/ipykernel_526183/1407958860.py:18: SettingWithCopyWarning: \n",
            "A value is trying to be set on a copy of a slice from a DataFrame.\n",
            "Try using .loc[row_indexer,col_indexer] = value instead\n",
            "\n",
            "See the caveats in the documentation: https://pandas.pydata.org/pandas-docs/stable/user_guide/indexing.html#returning-a-view-versus-a-copy\n",
            "  data_fp['text_length'] = data_fp['text'].str.split().str.len()\n"
          ]
        }
      ],
      "source": [
        "deberta_preds = np.array(preds).flatten()\n",
        "\n",
        "# gets false negative, false positive, true postive, true negative from dataframes\n",
        "deberta_fn = dev_df[(dev_df['label'] == 1) & (np.array(deberta_preds) == 0)]\n",
        "deberta_fp = dev_df[(dev_df['label'] == 0) & (np.array(deberta_preds) == 1)]\n",
        "deberta_tp = dev_df[(dev_df['label'] == 1) & (np.array(deberta_preds) == 1)]\n",
        "deberta_tn = dev_df[(dev_df['label'] == 0) & (np.array(deberta_preds) == 0)]\n",
        "\n",
        "deberta_correct = pd.concat([deberta_tp, deberta_tn], axis=0)\n",
        "deberta_incorrect = pd.concat([deberta_fn, deberta_fp], axis=0)\n",
        "deberta_correct['text_length'] = deberta_correct['text'].str.split().str.len()\n",
        "deberta_incorrect['text_length'] = deberta_incorrect['text'].str.split().str.len()\n",
        "\n",
        "# merge to the original 'data' set \n",
        "data_fn = data[data['par_id'].isin(deberta_fn['par_id'])]\n",
        "data_fn['text_length'] = data_fn['text'].str.split().str.len()\n",
        "data_fp = data[data['par_id'].isin(deberta_fp['par_id'])]\n",
        "data_fp['text_length'] = data_fp['text'].str.split().str.len()\n",
        "\n",
        "# countires and keywords for plotting\n",
        "countries = data['country'].to_list()\n",
        "keywords = data['keyword'].to_list()"
      ]
    },
    {
      "cell_type": "code",
      "execution_count": 54,
      "metadata": {},
      "outputs": [
        {
          "data": {
            "text/plain": [
              "'Hollywood star Leo Di Caprio urges help for reuniting immigrant children with their families'"
            ]
          },
          "execution_count": 54,
          "metadata": {},
          "output_type": "execute_result"
        }
      ],
      "source": [
        "# data that the decision tree predicted wrong but deberta predicted corrected\n",
        "\n",
        "missed_df = dev_df[(dev_df['label'] == 1) & (np.array(dt_pred) == 0) & (dev_df['par_id'].isin(deberta_tp['par_id']))]\n",
        "\n",
        "missed_df.sample(1)['text'].iloc[0]"
      ]
    },
    {
      "cell_type": "code",
      "execution_count": 471,
      "metadata": {},
      "outputs": [
        {
          "name": "stdout",
          "output_type": "stream",
          "text": [
            "Correct mean = 46.78146759507231\n",
            "Correct median = 41.0\n",
            "Incorrect mean =  52.59471365638767\n",
            "Incorrect median =  46.0\n"
          ]
        }
      ],
      "source": [
        "print(f'Correct mean =', deberta_correct['text_length'].mean())\n",
        "print('Correct median =', deberta_correct['text_length'].median())\n",
        "\n",
        "print(f'Incorrect mean = ', deberta_incorrect['text_length'].mean())\n",
        "print('Incorrect median = ', deberta_incorrect['text_length'].median())\n"
      ]
    },
    {
      "cell_type": "code",
      "execution_count": 390,
      "metadata": {},
      "outputs": [
        {
          "data": {
            "image/png": "[encoded data removed]",
            "text/plain": [
              "<Figure size 640x480 with 1 Axes>"
            ]
          },
          "metadata": {},
          "output_type": "display_data"
        }
      ],
      "source": [
        "import matplotlib.pyplot as plt\n",
        "\n",
        "def plot_data(fp_df, fn_df, categories, category_name, title):\n",
        "\n",
        "    fp_counts = fp_df[category_name].value_counts().to_dict()\n",
        "    fn_counts = fn_df[category_name].value_counts().to_dict()\n",
        "\n",
        "    for category in categories:\n",
        "        if category not in fp_counts:\n",
        "            fp_counts[category] = 0\n",
        "        if category not in fn_counts:\n",
        "            fn_counts[category] = 0\n",
        "\n",
        "    fp_counts = sorted(fp_counts.items(), key=lambda x: x[0])\n",
        "    fn_counts = sorted(fn_counts.items(), key=lambda x: x[0])\n",
        "\n",
        "    categories = [x[0] for x in fp_counts]\n",
        "    fp_counts = [x[1] for x in fp_counts]\n",
        "    fn_counts = [x[1] for x in fn_counts]\n",
        "\n",
        "    ind = np.arange(len(categories))\n",
        "    width = 0.35\n",
        "\n",
        "    fig = plt.figure()\n",
        "    ax = fig.add_subplot(111)\n",
        "    \n",
        "    ax.bar(ind - width/2, fp_counts, width, label='False Positives', color='orange')\n",
        "\n",
        "    ax.bar(ind + width/2, fn_counts, width, label='False Negatives', color='c')\n",
        "\n",
        "    ax.set_ylabel('frequency')\n",
        "    ax.set_title(title)\n",
        "    ax.set_xticks(ind)\n",
        "    if category_name == 'keyword':\n",
        "        ax.tick_params(rotation=45)\n",
        "    ax.set_xticklabels(categories)\n",
        "    ax.legend()\n",
        "\n",
        "    plt.show()\n",
        "\n",
        "plot_data(fp_df=deberta_fp, fn_df=deberta_fn, categories=countries, category_name='country', title='DeBerta Country Misclassifcation Distribution')"
      ]
    },
    {
      "cell_type": "code",
      "execution_count": 391,
      "metadata": {},
      "outputs": [
        {
          "data": {
            "image/png": "[encoded data removed]",
            "text/plain": [
              "<Figure size 640x480 with 1 Axes>"
            ]
          },
          "metadata": {},
          "output_type": "display_data"
        }
      ],
      "source": [
        "plot_data(fp_df=deberta_fp, fn_df=deberta_fn, categories=keywords, category_name='keyword', title='DeBerta Keyword Misclassifcation Distribution')"
      ]
    },
    {
      "cell_type": "code",
      "execution_count": 410,
      "metadata": {},
      "outputs": [
        {
          "data": {
            "text/plain": [
              "orig_label\n",
              "3    30\n",
              "2    11\n",
              "4     9\n",
              "Name: count, dtype: int64"
            ]
          },
          "execution_count": 410,
          "metadata": {},
          "output_type": "execute_result"
        }
      ],
      "source": [
        "data_fn.value_counts('orig_label')"
      ]
    },
    {
      "cell_type": "code",
      "execution_count": 411,
      "metadata": {},
      "outputs": [
        {
          "data": {
            "text/plain": [
              "orig_label\n",
              "0    117\n",
              "1     60\n",
              "Name: count, dtype: int64"
            ]
          },
          "execution_count": 411,
          "metadata": {},
          "output_type": "execute_result"
        }
      ],
      "source": [
        "data_fp.value_counts('orig_label')"
      ]
    },
    {
      "cell_type": "code",
      "execution_count": 413,
      "metadata": {},
      "outputs": [
        {
          "data": {
            "text/plain": [
              "orig_label\n",
              "0    1704\n",
              "1     191\n",
              "4      92\n",
              "3      89\n",
              "2      18\n",
              "Name: count, dtype: int64"
            ]
          },
          "execution_count": 413,
          "metadata": {},
          "output_type": "execute_result"
        }
      ],
      "source": [
        "dev_data_df = data[data['par_id'].isin(dev_df['par_id'])]\n",
        "dev_data_df.value_counts('orig_label')"
      ]
    }
  ],
  "metadata": {
    "accelerator": "GPU",
    "colab": {
      "gpuType": "T4",
      "provenance": []
    },
    "kernelspec": {
      "display_name": "Python 3",
      "name": "python3"
    },
    "language_info": {
      "codemirror_mode": {
        "name": "ipython",
        "version": 3
      },
      "file_extension": ".py",
      "mimetype": "text/x-python",
      "name": "python",
      "nbconvert_exporter": "python",
      "pygments_lexer": "ipython3",
      "version": "3.10.12"
    }
  },
  "nbformat": 4,
  "nbformat_minor": 0
}
